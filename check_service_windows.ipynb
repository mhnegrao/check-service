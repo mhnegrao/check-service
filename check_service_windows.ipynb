{
 "cells": [
  {
   "cell_type": "code",
   "execution_count": 5,
   "metadata": {},
   "outputs": [
    {
     "name": "stdout",
     "output_type": "stream",
     "text": [
      "Serviço encontrado!\n",
      "Serviço está rodando!\n",
      "{'display_name': 'RpcLocator', 'binpath': 'C:\\\\Windows\\\\system32\\\\locator.exe', 'username': 'NT AUTHORITY\\\\NetworkService', 'start_type': 'automatic', 'status': 'running', 'pid': 4160, 'name': 'RpcLocator', 'description': 'No Windows 2003 e em versões anteriores do Windows, o serviço Localizador RPC (Chamada de Procedimento Remoto) gerencia o banco de dados de serviço de nomes RPC. No Windows Vista e em versões posteriores do Windows, esse serviço não fornece nenhuma funcionalidade e está presente para compatibilidade do aplicativo.'}\n"
     ]
    }
   ],
   "source": [
    "import psutil\n",
    "#\n",
    "# Python Script to Check if...\n",
    "# Windows Service is found|installed,stopped|running without pywin32\n",
    "# Found at https://stackoverflow.com/questions/33843024\n",
    "# Update to work on python 3.x\n",
    "#\n",
    "\n",
    "def getService(name):\n",
    "\n",
    "    service = None\n",
    "    try:\n",
    "        service = psutil.win_service_get(name)\n",
    "        service = service.as_dict()\n",
    "    except Exception as ex:\n",
    "        print(str(ex))\n",
    "    return service\n",
    "\n",
    "service = getService('RpcLocator')\n",
    "\n",
    "\n",
    "if service:\n",
    "    print(\"Serviço encontrado!\")\n",
    "else:\n",
    "    print(\"Serviço não encontrado!!!\")\n",
    "\n",
    "\n",
    "if service and service['status'] == 'running':\n",
    "    print(\"Serviço está rodando!\")\n",
    "else:\n",
    "    print(\"Serviço não está rodando!!!\")\n",
    "    \n",
    "print(service)"
   ]
  }
 ],
 "metadata": {
  "kernelspec": {
   "display_name": "Python 3.10.5 64-bit",
   "language": "python",
   "name": "python3"
  },
  "language_info": {
   "codemirror_mode": {
    "name": "ipython",
    "version": 3
   },
   "file_extension": ".py",
   "mimetype": "text/x-python",
   "name": "python",
   "nbconvert_exporter": "python",
   "pygments_lexer": "ipython3",
   "version": "3.10.5"
  },
  "orig_nbformat": 4,
  "vscode": {
   "interpreter": {
    "hash": "369f2c481f4da34e4445cda3fffd2e751bd1c4d706f27375911949ba6bb62e1c"
   }
  }
 },
 "nbformat": 4,
 "nbformat_minor": 2
}
